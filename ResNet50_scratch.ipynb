{
 "cells": [
  {
   "cell_type": "code",
   "execution_count": 1,
   "metadata": {},
   "outputs": [],
   "source": [
    "import numpy as np \n",
    "import pandas as pd \n",
    "import matplotlib.pyplot as plt\n",
    "import os\n",
    "import cv2\n",
    "from sklearn.preprocessing import LabelEncoder, OneHotEncoder\n",
    "from sklearn.utils import shuffle\n",
    "from sklearn.model_selection import train_test_split\n",
    "from keras import layers\n",
    "from keras.layers import Input, Add, Dense, Activation, ZeroPadding2D, BatchNormalization, Flatten, Conv2D, AveragePooling2D, MaxPooling2D, GlobalMaxPooling2D\n",
    "from keras.models import Model\n",
    "from keras.initializers import glorot_uniform\n",
    "import tensorflow as tf\n",
    "from sklearn.metrics import confusion_matrix, classification_report\n",
    "import json\n",
    "import random"
   ]
  },
  {
   "cell_type": "code",
   "execution_count": 6,
   "metadata": {},
   "outputs": [],
   "source": [
    "# Dataset\n",
    "dataset_path = 'Bacteria_Dataset_unzipped'"
   ]
  },
  {
   "cell_type": "code",
   "execution_count": 7,
   "metadata": {},
   "outputs": [
    {
     "name": "stdout",
     "output_type": "stream",
     "text": [
      "Types of bacteria found:  19\n"
     ]
    }
   ],
   "source": [
    "bacteria_types = os.listdir(dataset_path)\n",
    "print(\"Types of bacteria found: \", len(bacteria_types))"
   ]
  },
  {
   "cell_type": "code",
   "execution_count": 8,
   "metadata": {},
   "outputs": [],
   "source": [
    "# Loading the data\n",
    "bacteria = []\n",
    "for item in bacteria_types:\n",
    "    all_bacteria = os.listdir(os.path.join(dataset_path, item))\n",
    "    for img_name in all_bacteria:\n",
    "        img_path = os.path.join(dataset_path, item, img_name)\n",
    "        bacteria.append((item, img_path))\n",
    "# print(bacteria)"
   ]
  },
  {
   "cell_type": "code",
   "execution_count": 9,
   "metadata": {
    "scrolled": true
   },
   "outputs": [
    {
     "data": {
      "text/html": [
       "<div>\n",
       "<style scoped>\n",
       "    .dataframe tbody tr th:only-of-type {\n",
       "        vertical-align: middle;\n",
       "    }\n",
       "\n",
       "    .dataframe tbody tr th {\n",
       "        vertical-align: top;\n",
       "    }\n",
       "\n",
       "    .dataframe thead th {\n",
       "        text-align: right;\n",
       "    }\n",
       "</style>\n",
       "<table border=\"1\" class=\"dataframe\">\n",
       "  <thead>\n",
       "    <tr style=\"text-align: right;\">\n",
       "      <th></th>\n",
       "      <th>bacteria type</th>\n",
       "      <th>image</th>\n",
       "    </tr>\n",
       "  </thead>\n",
       "  <tbody>\n",
       "    <tr>\n",
       "      <th>0</th>\n",
       "      <td>Acinetobacter.baumanii</td>\n",
       "      <td>Bacteria_Dataset_unzipped\\Acinetobacter.bauman...</td>\n",
       "    </tr>\n",
       "    <tr>\n",
       "      <th>1</th>\n",
       "      <td>Acinetobacter.baumanii</td>\n",
       "      <td>Bacteria_Dataset_unzipped\\Acinetobacter.bauman...</td>\n",
       "    </tr>\n",
       "    <tr>\n",
       "      <th>2</th>\n",
       "      <td>Acinetobacter.baumanii</td>\n",
       "      <td>Bacteria_Dataset_unzipped\\Acinetobacter.bauman...</td>\n",
       "    </tr>\n",
       "    <tr>\n",
       "      <th>3</th>\n",
       "      <td>Acinetobacter.baumanii</td>\n",
       "      <td>Bacteria_Dataset_unzipped\\Acinetobacter.bauman...</td>\n",
       "    </tr>\n",
       "    <tr>\n",
       "      <th>4</th>\n",
       "      <td>Acinetobacter.baumanii</td>\n",
       "      <td>Bacteria_Dataset_unzipped\\Acinetobacter.bauman...</td>\n",
       "    </tr>\n",
       "    <tr>\n",
       "      <th>...</th>\n",
       "      <td>...</td>\n",
       "      <td>...</td>\n",
       "    </tr>\n",
       "    <tr>\n",
       "      <th>404</th>\n",
       "      <td>Veionella</td>\n",
       "      <td>Bacteria_Dataset_unzipped\\Veionella\\Veionella_...</td>\n",
       "    </tr>\n",
       "    <tr>\n",
       "      <th>405</th>\n",
       "      <td>Veionella</td>\n",
       "      <td>Bacteria_Dataset_unzipped\\Veionella\\Veionella_...</td>\n",
       "    </tr>\n",
       "    <tr>\n",
       "      <th>406</th>\n",
       "      <td>Veionella</td>\n",
       "      <td>Bacteria_Dataset_unzipped\\Veionella\\Veionella_...</td>\n",
       "    </tr>\n",
       "    <tr>\n",
       "      <th>407</th>\n",
       "      <td>Veionella</td>\n",
       "      <td>Bacteria_Dataset_unzipped\\Veionella\\Veionella_...</td>\n",
       "    </tr>\n",
       "    <tr>\n",
       "      <th>408</th>\n",
       "      <td>Veionella</td>\n",
       "      <td>Bacteria_Dataset_unzipped\\Veionella\\Veionella_...</td>\n",
       "    </tr>\n",
       "  </tbody>\n",
       "</table>\n",
       "<p>409 rows × 2 columns</p>\n",
       "</div>"
      ],
      "text/plain": [
       "              bacteria type                                              image\n",
       "0    Acinetobacter.baumanii  Bacteria_Dataset_unzipped\\Acinetobacter.bauman...\n",
       "1    Acinetobacter.baumanii  Bacteria_Dataset_unzipped\\Acinetobacter.bauman...\n",
       "2    Acinetobacter.baumanii  Bacteria_Dataset_unzipped\\Acinetobacter.bauman...\n",
       "3    Acinetobacter.baumanii  Bacteria_Dataset_unzipped\\Acinetobacter.bauman...\n",
       "4    Acinetobacter.baumanii  Bacteria_Dataset_unzipped\\Acinetobacter.bauman...\n",
       "..                      ...                                                ...\n",
       "404               Veionella  Bacteria_Dataset_unzipped\\Veionella\\Veionella_...\n",
       "405               Veionella  Bacteria_Dataset_unzipped\\Veionella\\Veionella_...\n",
       "406               Veionella  Bacteria_Dataset_unzipped\\Veionella\\Veionella_...\n",
       "407               Veionella  Bacteria_Dataset_unzipped\\Veionella\\Veionella_...\n",
       "408               Veionella  Bacteria_Dataset_unzipped\\Veionella\\Veionella_...\n",
       "\n",
       "[409 rows x 2 columns]"
      ]
     },
     "execution_count": 9,
     "metadata": {},
     "output_type": "execute_result"
    }
   ],
   "source": [
    "# Create a dataframe\n",
    "bacteria_df = pd.DataFrame(data=bacteria, columns=['bacteria type', 'image'])\n",
    "bacteria_df"
   ]
  },
  {
   "cell_type": "code",
   "execution_count": 10,
   "metadata": {},
   "outputs": [
    {
     "name": "stdout",
     "output_type": "stream",
     "text": [
      "Total number of images in the dataset:  409\n"
     ]
    }
   ],
   "source": [
    "print(\"Total number of images in the dataset: \", len(bacteria_df))"
   ]
  },
  {
   "cell_type": "code",
   "execution_count": 11,
   "metadata": {},
   "outputs": [],
   "source": [
    "# Label encoder\n",
    "y = bacteria_df['bacteria type'].values\n",
    "y_labelencoder = LabelEncoder()\n",
    "y = y_labelencoder.fit_transform(y)\n",
    "y = y.reshape(-1, 1)\n",
    "onehotencoder = OneHotEncoder(sparse_output=False)\n",
    "Y = onehotencoder.fit_transform(y)"
   ]
  },
  {
   "cell_type": "code",
   "execution_count": 13,
   "metadata": {},
   "outputs": [],
   "source": [
    "#preprocess the images\n",
    "im_size = 64\n",
    "images = []\n",
    "for img_path in bacteria_df['image']:\n",
    "    img = cv2.imread(img_path)\n",
    "    img = cv2.resize(img, (im_size, im_size))\n",
    "    images.append(img)"
   ]
  },
  {
   "cell_type": "code",
   "execution_count": 14,
   "metadata": {},
   "outputs": [],
   "source": [
    "images = np.array(images, dtype='float32') / 255.0\n"
   ]
  },
  {
   "cell_type": "code",
   "execution_count": 15,
   "metadata": {},
   "outputs": [],
   "source": [
    "# Split your dataset into training and testing\n",
    "images, Y = shuffle(images, Y, random_state=1)\n",
    "train_x, test_x, train_y, test_y = train_test_split(images, Y, test_size=0.2, random_state=42)\n"
   ]
  },
  {
   "cell_type": "markdown",
   "metadata": {},
   "source": [
    "# Identity Block"
   ]
  },
  {
   "cell_type": "code",
   "execution_count": 16,
   "metadata": {},
   "outputs": [],
   "source": [
    "def identity_block(X, f, filters, stage, block):\n",
    "    \"\"\"\n",
    "   \n",
    "    Arguments:\n",
    "    X -- input of shape (m, height, width, channel)\n",
    "    f -- shape of the middle CONV's window for the main path\n",
    "    filters -- python list of integers, defining the number of filters in the CONV layers of the main path\n",
    "    stage -- integer, used to name the layers, depending on their position in the network\n",
    "    block -- string/character, used to name the layers, depending on their position in the network\n",
    "    \n",
    "    Returns:\n",
    "    X -- output of the identity block, tensor of shape (n_H, n_W, n_C)\n",
    "    \"\"\"\n",
    "    \n",
    "    # defining name basis\n",
    "    conv_name_base = 'res' + str(stage) + block + '_branch'\n",
    "    bn_name_base = 'bn' + str(stage) + block + '_branch'\n",
    "    \n",
    "    # Retrieve Filters\n",
    "    F1, F2, F3 = filters\n",
    "    \n",
    "    # Saving the input value \n",
    "    X_shortcut = X\n",
    "    \n",
    "    # First component of main path\n",
    "    X = Conv2D(filters = F1, kernel_size = (1, 1), strides = (1,1), padding = 'valid', name = conv_name_base + '2a')(X)\n",
    "    X = BatchNormalization(axis = 3, name = bn_name_base + '2a')(X)\n",
    "    X = Activation('relu')(X)\n",
    "\n",
    "    \n",
    "    # Second component of main path\n",
    "    X = Conv2D(filters = F2, kernel_size = (f, f), strides = (1,1), padding = 'same', name = conv_name_base + '2b')(X)\n",
    "    X = BatchNormalization(axis = 3, name = bn_name_base + '2b')(X)\n",
    "    X = Activation('relu')(X)\n",
    "\n",
    "    # Third component of main path \n",
    "    X = Conv2D(filters = F3, kernel_size = (1, 1), strides = (1,1), padding = 'valid', name = conv_name_base + '2c')(X)\n",
    "    X = BatchNormalization(axis = 3, name = bn_name_base + '2c')(X)\n",
    "\n",
    "    # Final step: Add shortcut value to main path, and pass it through a RELU activation \n",
    "    X = Add()([X, X_shortcut])\n",
    "    X = Activation('relu')(X)\n",
    "    \n",
    "    return X"
   ]
  },
  {
   "cell_type": "markdown",
   "metadata": {},
   "source": [
    "# Convolutional Block"
   ]
  },
  {
   "cell_type": "code",
   "execution_count": 17,
   "metadata": {},
   "outputs": [],
   "source": [
    "\n",
    "def convolutional_block(X, f, filters, stage, block, s = 2):\n",
    "    \n",
    "    # defining name basis\n",
    "    conv_name_base = 'res' + str(stage) + block + '_branch'\n",
    "    bn_name_base = 'bn' + str(stage) + block + '_branch'\n",
    "    \n",
    "    # Retrieve Filters\n",
    "    F1, F2, F3 = filters\n",
    "    \n",
    "    # Save the input value\n",
    "    X_shortcut = X\n",
    "\n",
    "\n",
    "    # First layer \n",
    "    X = Conv2D(F1, (1, 1), strides = (s,s), name = conv_name_base + '2a')(X) # 1,1 is filter size\n",
    "    X = BatchNormalization(axis = 3, name = bn_name_base + '2a')(X)  # normalization on channels\n",
    "    X = Activation('relu')(X)\n",
    "\n",
    "      \n",
    "    # Second layer  (f,f)=3*3 filter by default\n",
    "    X = Conv2D(filters = F2, kernel_size = (f, f), strides = (1,1), padding = 'same', name = conv_name_base + '2b')(X)\n",
    "    X = BatchNormalization(axis = 3, name = bn_name_base + '2b')(X)\n",
    "    X = Activation('relu')(X)\n",
    "\n",
    "\n",
    "    # Third layer\n",
    "    X = Conv2D(filters = F3, kernel_size = (1, 1), strides = (1,1), padding = 'valid', name = conv_name_base + '2c')(X)\n",
    "    X = BatchNormalization(axis = 3, name = bn_name_base + '2c')(X)\n",
    "\n",
    "\n",
    "    ##### SHORTCUT PATH #### \n",
    "    X_shortcut = Conv2D(filters = F3, kernel_size = (1, 1), strides = (s,s), padding = 'valid', name = conv_name_base + '1')(X_shortcut)\n",
    "    X_shortcut = BatchNormalization(axis = 3, name = bn_name_base + '1')(X_shortcut)\n",
    "\n",
    "    # Final step: Add shortcut value here, and pass it through a RELU activation \n",
    "    X = Add()([X, X_shortcut])\n",
    "    X = Activation('relu')(X)\n",
    "    \n",
    "    return X"
   ]
  },
  {
   "cell_type": "markdown",
   "metadata": {},
   "source": [
    "\n",
    "# Creating ResNet 50 "
   ]
  },
  {
   "cell_type": "code",
   "execution_count": 18,
   "metadata": {},
   "outputs": [],
   "source": [
    "#Each ResNet block is either 2 layer deep\n",
    "def ResNet50(input_shape=(64, 64, 3), classes=3):\n",
    "    \"\"\"\n",
    "    Implementation of the ResNet50 architecture:\n",
    "    CONV2D -> BATCHNORM -> RELU -> MAXPOOL -> CONVBLOCK -> IDBLOCK*2 -> CONVBLOCK -> IDBLOCK*3\n",
    "    -> CONVBLOCK -> IDBLOCK*5 -> CONVBLOCK -> IDBLOCK*2 -> AVGPOOL -> TOPLAYER\n",
    "\n",
    "    \"\"\"\n",
    "\n",
    "    # Define the input as a tensor with shape input_shape\n",
    "    X_input = Input(input_shape)\n",
    "\n",
    "    # Zero-Padding\n",
    "    X = ZeroPadding2D((3, 3))(X_input) #3,3 padding\n",
    "\n",
    "    # Stage 1\n",
    "    X = Conv2D(64, (7, 7), strides=(2, 2), name='conv1')(X) #64 filters of 7*7 \n",
    "    X = BatchNormalization(axis=3, name='bn_conv1')(X) #batchnorm applied on channels\n",
    "    X = Activation('relu')(X)\n",
    "    X = MaxPooling2D((3, 3), strides=(2, 2))(X) #window size is 3*3\n",
    "\n",
    "    # Stage 2\n",
    "    X = convolutional_block(X, f=3, filters=[64, 64, 256], stage=2, block='a', s=1)\n",
    "    # convolutional_block is a function defined above. Convolutional_block have 3 layers.\n",
    "    #filters=[64, 64, 256] first 64 is for 1st layer and 2nd 64 is for 2nd layer and 256 is for 3rd layer of convultional block   \n",
    "    # below are the conv layers from convolutional_block function\n",
    "    #X = Conv2D(F1, (1, 1), strides = (s,s), name = conv_name_base + '2a')(X)\n",
    "    #X = Conv2D(F2, kernel_size = (f, f), strides = (1,1), padding = 'same', name = conv_name_base + '2b')(X)\n",
    "    #X = Conv2D(F3, (1, 1), strides = (s,s), name = conv_name_base + '2a')(X)\n",
    "   \n",
    "    X = identity_block(X, 3, [64, 64, 256], stage=2, block='b') \n",
    "    #X = Conv2D(filters = F1, kernel_size = (1, 1), strides = (1,1), padding = 'valid', name = conv_name_base + '2a')(X)\n",
    "    #X = Conv2D(filters = F2, kernel_size = (f, f), strides = (1,1), padding = 'same', name = conv_name_base + '2b')(X)\n",
    "    #X = Conv2D(filters = F3, kernel_size = (1, 1), strides = (1,1), padding = 'valid', name = conv_name_base + '2c')(X)\n",
    "  \n",
    "    X = identity_block(X, 3, [64, 64, 256], stage=2, block='c')\n",
    "    #X = Conv2D(filters = F1, kernel_size = (1, 1), strides = (1,1), padding = 'valid', name = conv_name_base + '2a')(X)\n",
    "    #X = Conv2D(filters = F2, kernel_size = (f, f), strides = (1,1), padding = 'same', name = conv_name_base + '2b')(X)\n",
    "    #X = Conv2D(filters = F3, kernel_size = (1, 1), strides = (1,1), padding = 'valid', name = conv_name_base + '2c')(X)\n",
    "\n",
    "    # Stage 3 \n",
    "    X = convolutional_block(X, f = 3, filters = [128, 128, 512], stage = 3, block='a', s = 2)\n",
    "    X = identity_block(X, 3, [128, 128, 512], stage=3, block='b')\n",
    "    X = identity_block(X, 3, [128, 128, 512], stage=3, block='c')\n",
    "    X = identity_block(X, 3, [128, 128, 512], stage=3, block='d')\n",
    "\n",
    "    # Stage 4 \n",
    "    X = convolutional_block(X, f = 3, filters = [256, 256, 1024], stage = 4, block='a', s = 2)\n",
    "    X = identity_block(X, 3, [256, 256, 1024], stage=4, block='b')\n",
    "    X = identity_block(X, 3, [256, 256, 1024], stage=4, block='c')\n",
    "    X = identity_block(X, 3, [256, 256, 1024], stage=4, block='d')\n",
    "    X = identity_block(X, 3, [256, 256, 1024], stage=4, block='e')\n",
    "    X = identity_block(X, 3, [256, 256, 1024], stage=4, block='f')\n",
    "\n",
    "    # Stage 5 \n",
    "    X = convolutional_block(X, f = 3, filters = [512, 512, 2048], stage = 5, block='a', s = 2)\n",
    "    X = identity_block(X, 3, [512, 512, 2048], stage=5, block='b')\n",
    "    X = identity_block(X, 3, [512, 512, 2048], stage=5, block='c')\n",
    "\n",
    "    # AVGPOOL \n",
    "    X = AveragePooling2D((2,2), name=\"avg_pool\")(X)\n",
    "\n",
    "    # output layer\n",
    "    X = Flatten()(X)\n",
    "    X = Dense(classes, activation='softmax', name='fc' + str(classes), kernel_initializer = glorot_uniform(seed=0))(X)\n",
    "    \n",
    "    # Create model\n",
    "    model = Model(inputs = X_input, outputs = X, name='ResNet50')\n",
    "\n",
    "    return model\n"
   ]
  },
  {
   "cell_type": "code",
   "execution_count": 19,
   "metadata": {},
   "outputs": [],
   "source": [
    "# Create and compile the model\n",
    "model = ResNet50(input_shape=(64, 64, 3), classes=19)"
   ]
  },
  {
   "cell_type": "code",
   "execution_count": 20,
   "metadata": {},
   "outputs": [],
   "source": [
    "model.compile(optimizer='adam', loss='categorical_crossentropy', metrics=['accuracy'])"
   ]
  },
  {
   "cell_type": "code",
   "execution_count": 1,
   "metadata": {},
   "outputs": [],
   "source": [
    "# model.summary()"
   ]
  },
  {
   "cell_type": "code",
   "execution_count": 22,
   "metadata": {},
   "outputs": [
    {
     "name": "stdout",
     "output_type": "stream",
     "text": [
      "Epoch 1/50\n",
      "11/11 [==============================] - 37s 2s/step - loss: 4.2813 - accuracy: 0.1009 - val_loss: 2.9838 - val_accuracy: 0.0244\n",
      "Epoch 2/50\n",
      "11/11 [==============================] - 18s 2s/step - loss: 3.7897 - accuracy: 0.2202 - val_loss: 3.0744 - val_accuracy: 0.0610\n",
      "Epoch 3/50\n",
      "11/11 [==============================] - 18s 2s/step - loss: 2.3542 - accuracy: 0.3364 - val_loss: 2.9696 - val_accuracy: 0.1341\n",
      "Epoch 4/50\n",
      "11/11 [==============================] - 18s 2s/step - loss: 1.7768 - accuracy: 0.4067 - val_loss: 3.0465 - val_accuracy: 0.0610\n",
      "Epoch 5/50\n",
      "11/11 [==============================] - 18s 2s/step - loss: 1.6773 - accuracy: 0.5260 - val_loss: 3.1685 - val_accuracy: 0.0610\n",
      "Epoch 6/50\n",
      "11/11 [==============================] - 18s 2s/step - loss: 1.2511 - accuracy: 0.5933 - val_loss: 3.5029 - val_accuracy: 0.0732\n",
      "Epoch 7/50\n",
      "11/11 [==============================] - 18s 2s/step - loss: 1.7888 - accuracy: 0.5841 - val_loss: 3.9363 - val_accuracy: 0.0610\n",
      "Epoch 8/50\n",
      "11/11 [==============================] - 18s 2s/step - loss: 2.5656 - accuracy: 0.5229 - val_loss: 3.8837 - val_accuracy: 0.0244\n",
      "Epoch 9/50\n",
      "11/11 [==============================] - 18s 2s/step - loss: 2.4994 - accuracy: 0.3914 - val_loss: 4.9341 - val_accuracy: 0.0244\n",
      "Epoch 10/50\n",
      "11/11 [==============================] - 17s 2s/step - loss: 2.0776 - accuracy: 0.4128 - val_loss: 5.4402 - val_accuracy: 0.0244\n",
      "Epoch 11/50\n",
      "11/11 [==============================] - 17s 2s/step - loss: 1.5180 - accuracy: 0.5413 - val_loss: 5.4038 - val_accuracy: 0.0244\n",
      "Epoch 12/50\n",
      "11/11 [==============================] - 18s 2s/step - loss: 1.5054 - accuracy: 0.5566 - val_loss: 7.0008 - val_accuracy: 0.0244\n",
      "Epoch 13/50\n",
      "11/11 [==============================] - 18s 2s/step - loss: 1.1403 - accuracy: 0.6177 - val_loss: 6.7700 - val_accuracy: 0.0610\n",
      "Epoch 14/50\n",
      "11/11 [==============================] - 18s 2s/step - loss: 1.1931 - accuracy: 0.6086 - val_loss: 6.8400 - val_accuracy: 0.0244\n",
      "Epoch 15/50\n",
      "11/11 [==============================] - 17s 2s/step - loss: 0.8385 - accuracy: 0.7187 - val_loss: 6.1854 - val_accuracy: 0.0610\n",
      "Epoch 16/50\n",
      "11/11 [==============================] - 17s 2s/step - loss: 1.1177 - accuracy: 0.6667 - val_loss: 5.9724 - val_accuracy: 0.0610\n",
      "Epoch 17/50\n",
      "11/11 [==============================] - 17s 2s/step - loss: 1.1799 - accuracy: 0.6391 - val_loss: 5.2096 - val_accuracy: 0.0244\n",
      "Epoch 18/50\n",
      "11/11 [==============================] - 17s 2s/step - loss: 1.1129 - accuracy: 0.6881 - val_loss: 5.6539 - val_accuracy: 0.1220\n",
      "Epoch 19/50\n",
      "11/11 [==============================] - 17s 2s/step - loss: 1.0903 - accuracy: 0.7248 - val_loss: 4.8377 - val_accuracy: 0.1341\n",
      "Epoch 20/50\n",
      "11/11 [==============================] - 17s 2s/step - loss: 0.6869 - accuracy: 0.7829 - val_loss: 4.0552 - val_accuracy: 0.1707\n",
      "Epoch 21/50\n",
      "11/11 [==============================] - 17s 2s/step - loss: 0.7779 - accuracy: 0.7554 - val_loss: 5.6118 - val_accuracy: 0.0610\n",
      "Epoch 22/50\n",
      "11/11 [==============================] - 17s 2s/step - loss: 0.8650 - accuracy: 0.7401 - val_loss: 4.9360 - val_accuracy: 0.0610\n",
      "Epoch 23/50\n",
      "11/11 [==============================] - 17s 2s/step - loss: 0.9348 - accuracy: 0.7401 - val_loss: 4.6984 - val_accuracy: 0.1220\n",
      "Epoch 24/50\n",
      "11/11 [==============================] - 17s 2s/step - loss: 0.7990 - accuracy: 0.7492 - val_loss: 4.1307 - val_accuracy: 0.0610\n",
      "Epoch 25/50\n",
      "11/11 [==============================] - 18s 2s/step - loss: 0.8003 - accuracy: 0.7859 - val_loss: 3.9709 - val_accuracy: 0.1220\n",
      "Epoch 26/50\n",
      "11/11 [==============================] - 17s 2s/step - loss: 0.6957 - accuracy: 0.7798 - val_loss: 4.6675 - val_accuracy: 0.0732\n",
      "Epoch 27/50\n",
      "11/11 [==============================] - 17s 2s/step - loss: 0.9002 - accuracy: 0.7982 - val_loss: 5.1959 - val_accuracy: 0.0610\n",
      "Epoch 28/50\n",
      "11/11 [==============================] - 17s 2s/step - loss: 0.7294 - accuracy: 0.7951 - val_loss: 4.7318 - val_accuracy: 0.0854\n",
      "Epoch 29/50\n",
      "11/11 [==============================] - 18s 2s/step - loss: 0.6175 - accuracy: 0.8318 - val_loss: 6.4280 - val_accuracy: 0.0854\n",
      "Epoch 30/50\n",
      "11/11 [==============================] - 18s 2s/step - loss: 0.6922 - accuracy: 0.8196 - val_loss: 6.6015 - val_accuracy: 0.0854\n",
      "Epoch 31/50\n",
      "11/11 [==============================] - 18s 2s/step - loss: 0.3919 - accuracy: 0.8685 - val_loss: 6.6630 - val_accuracy: 0.0854\n",
      "Epoch 32/50\n",
      "11/11 [==============================] - 17s 2s/step - loss: 0.6931 - accuracy: 0.8226 - val_loss: 8.0532 - val_accuracy: 0.0732\n",
      "Epoch 33/50\n",
      "11/11 [==============================] - 17s 2s/step - loss: 0.8192 - accuracy: 0.8012 - val_loss: 6.8333 - val_accuracy: 0.1220\n",
      "Epoch 34/50\n",
      "11/11 [==============================] - 17s 2s/step - loss: 0.6397 - accuracy: 0.8043 - val_loss: 5.3110 - val_accuracy: 0.1098\n",
      "Epoch 35/50\n",
      "11/11 [==============================] - 17s 2s/step - loss: 0.5628 - accuracy: 0.8043 - val_loss: 5.7034 - val_accuracy: 0.0976\n",
      "Epoch 36/50\n",
      "11/11 [==============================] - 17s 2s/step - loss: 0.8995 - accuracy: 0.7248 - val_loss: 6.4052 - val_accuracy: 0.1098\n",
      "Epoch 37/50\n",
      "11/11 [==============================] - 17s 2s/step - loss: 1.0379 - accuracy: 0.8532 - val_loss: 5.5895 - val_accuracy: 0.1463\n",
      "Epoch 38/50\n",
      "11/11 [==============================] - 17s 2s/step - loss: 1.2887 - accuracy: 0.7829 - val_loss: 5.6388 - val_accuracy: 0.2317\n",
      "Epoch 39/50\n",
      "11/11 [==============================] - 17s 2s/step - loss: 0.9887 - accuracy: 0.7462 - val_loss: 5.7509 - val_accuracy: 0.1829\n",
      "Epoch 40/50\n",
      "11/11 [==============================] - 17s 2s/step - loss: 0.7809 - accuracy: 0.7401 - val_loss: 5.3713 - val_accuracy: 0.1585\n",
      "Epoch 41/50\n",
      "11/11 [==============================] - 17s 2s/step - loss: 1.4907 - accuracy: 0.6177 - val_loss: 5.0589 - val_accuracy: 0.1220\n",
      "Epoch 42/50\n",
      "11/11 [==============================] - 18s 2s/step - loss: 0.9764 - accuracy: 0.7003 - val_loss: 2.8345 - val_accuracy: 0.2317\n",
      "Epoch 43/50\n",
      "11/11 [==============================] - 17s 2s/step - loss: 0.8077 - accuracy: 0.7706 - val_loss: 3.7679 - val_accuracy: 0.1220\n",
      "Epoch 44/50\n",
      "11/11 [==============================] - 17s 2s/step - loss: 0.6905 - accuracy: 0.8073 - val_loss: 3.1936 - val_accuracy: 0.2195\n",
      "Epoch 45/50\n",
      "11/11 [==============================] - 17s 2s/step - loss: 0.7255 - accuracy: 0.7982 - val_loss: 3.1154 - val_accuracy: 0.1951\n",
      "Epoch 46/50\n",
      "11/11 [==============================] - 17s 2s/step - loss: 0.4827 - accuracy: 0.8471 - val_loss: 4.0362 - val_accuracy: 0.2073\n",
      "Epoch 47/50\n",
      "11/11 [==============================] - 17s 2s/step - loss: 0.3749 - accuracy: 0.8807 - val_loss: 4.9306 - val_accuracy: 0.1951\n",
      "Epoch 48/50\n",
      "11/11 [==============================] - 17s 2s/step - loss: 0.6477 - accuracy: 0.8257 - val_loss: 6.1951 - val_accuracy: 0.1341\n",
      "Epoch 49/50\n",
      "11/11 [==============================] - 17s 2s/step - loss: 0.5277 - accuracy: 0.8869 - val_loss: 2.4385 - val_accuracy: 0.3659\n",
      "Epoch 50/50\n",
      "11/11 [==============================] - 17s 2s/step - loss: 0.4824 - accuracy: 0.8899 - val_loss: 5.5896 - val_accuracy: 0.2317\n"
     ]
    }
   ],
   "source": [
    "# Train your model with validation data\n",
    "history = model.fit(train_x, train_y, validation_data=(test_x, test_y), epochs=50, batch_size=32)"
   ]
  },
  {
   "cell_type": "code",
   "execution_count": 23,
   "metadata": {},
   "outputs": [
    {
     "name": "stderr",
     "output_type": "stream",
     "text": [
      "C:\\Users\\Machine Learning GPU\\anaconda3\\Lib\\site-packages\\keras\\src\\engine\\training.py:3000: UserWarning: You are saving your model as an HDF5 file via `model.save()`. This file format is considered legacy. We recommend using instead the native Keras format, e.g. `model.save('my_model.keras')`.\n",
      "  saving_api.save_model(\n"
     ]
    }
   ],
   "source": [
    "# Save the model\n",
    "model.save('Models/ResNet50_scratch.h5')"
   ]
  },
  {
   "cell_type": "code",
   "execution_count": 24,
   "metadata": {},
   "outputs": [],
   "source": [
    "# Save the training history (loss and accuracy) as JSON\n",
    "history_dict = {\n",
    "    'loss': history.history['loss'],\n",
    "    'accuracy': history.history['accuracy'],\n",
    "    'val_loss': history.history['val_loss'],\n",
    "    'val_accuracy': history.history['val_accuracy']\n",
    "}\n",
    "\n",
    "with open('Results/ResNet50_scratch.json', 'w') as json_file:\n",
    "    json.dump(history_dict, json_file)"
   ]
  },
  {
   "cell_type": "code",
   "execution_count": null,
   "metadata": {},
   "outputs": [],
   "source": []
  }
 ],
 "metadata": {
  "kernelspec": {
   "display_name": "Python 3 (ipykernel)",
   "language": "python",
   "name": "python3"
  },
  "language_info": {
   "codemirror_mode": {
    "name": "ipython",
    "version": 3
   },
   "file_extension": ".py",
   "mimetype": "text/x-python",
   "name": "python",
   "nbconvert_exporter": "python",
   "pygments_lexer": "ipython3",
   "version": "3.11.5"
  }
 },
 "nbformat": 4,
 "nbformat_minor": 2
}
